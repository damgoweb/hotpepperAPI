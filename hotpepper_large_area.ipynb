{
  "nbformat": 4,
  "nbformat_minor": 0,
  "metadata": {
    "colab": {
      "provenance": [],
      "toc_visible": true,
      "authorship_tag": "ABX9TyO1uhksuDe/n/NnGHnDHMkv",
      "include_colab_link": true
    },
    "kernelspec": {
      "name": "python3",
      "display_name": "Python 3"
    },
    "language_info": {
      "name": "python"
    }
  },
  "cells": [
    {
      "cell_type": "markdown",
      "metadata": {
        "id": "view-in-github",
        "colab_type": "text"
      },
      "source": [
        "<a href=\"https://colab.research.google.com/github/damgoweb/hotpepperAPI/blob/main/hotpepper_large_area.ipynb\" target=\"_parent\"><img src=\"https://colab.research.google.com/assets/colab-badge.svg\" alt=\"Open In Colab\"/></a>"
      ]
    },
    {
      "cell_type": "code",
      "source": [
        "# ホットペッパーAPI\n",
        "# リファレンス：https://webservice.recruit.co.jp/doc/hotpepper/reference.html\n",
        "#\n",
        "#"
      ],
      "metadata": {
        "id": "rhZupZ8C7xXP"
      },
      "execution_count": null,
      "outputs": []
    },
    {
      "cell_type": "code",
      "source": [
        "#大エリアマスタAPI 都道府県レベルのマスタ\n",
        "#取得するデータ\n",
        "#　・大エリアコード\n",
        "#　・大エリア名"
      ],
      "metadata": {
        "id": "SiqyCO6X857K"
      },
      "execution_count": null,
      "outputs": []
    },
    {
      "cell_type": "markdown",
      "source": [],
      "metadata": {
        "id": "ds2bsTpH7zmF"
      }
    },
    {
      "cell_type": "code",
      "source": [
        "\n",
        "import requests\n",
        "import pandas as pd\n",
        "\n",
        "URL = 'https://webservice.recruit.co.jp/hotpepper/large_area/v1/'\n",
        "\n",
        "API_KEY = ''\n",
        "\n",
        "large_area_arr=[]\n",
        "\n",
        "query = {\n",
        "    'key':API_KEY,\n",
        "    'format':'json'\n",
        "}"
      ],
      "metadata": {
        "id": "UPduqTXj4RRg"
      },
      "execution_count": 33,
      "outputs": []
    },
    {
      "cell_type": "code",
      "source": [
        "# APIレスポンス\n",
        "response = requests.get(URL,query)\n"
      ],
      "metadata": {
        "id": "KcvjB2rcHMkh"
      },
      "execution_count": 34,
      "outputs": []
    },
    {
      "cell_type": "code",
      "source": [
        "print(response.text)"
      ],
      "metadata": {
        "colab": {
          "base_uri": "https://localhost:8080/"
        },
        "id": "Uw0WqGNQHQy6",
        "outputId": "1bff9b9b-3705-4780-eddf-6123e9c464ad"
      },
      "execution_count": 35,
      "outputs": [
        {
          "output_type": "stream",
          "name": "stdout",
          "text": [
            "{\"results\":{\"api_version\":\"1.20\",\"large_area\":[{\"code\":\"Z011\",\"large_service_area\":{\"code\":\"SS10\",\"name\":\"関東\"},\"name\":\"東京\",\"service_area\":{\"code\":\"SA11\",\"name\":\"東京\"}},{\"code\":\"Z012\",\"large_service_area\":{\"code\":\"SS10\",\"name\":\"関東\"},\"name\":\"神奈川\",\"service_area\":{\"code\":\"SA12\",\"name\":\"神奈川\"}},{\"code\":\"Z013\",\"large_service_area\":{\"code\":\"SS10\",\"name\":\"関東\"},\"name\":\"埼玉\",\"service_area\":{\"code\":\"SA13\",\"name\":\"埼玉\"}},{\"code\":\"Z014\",\"large_service_area\":{\"code\":\"SS10\",\"name\":\"関東\"},\"name\":\"千葉\",\"service_area\":{\"code\":\"SA14\",\"name\":\"千葉\"}},{\"code\":\"Z015\",\"large_service_area\":{\"code\":\"SS10\",\"name\":\"関東\"},\"name\":\"茨城\",\"service_area\":{\"code\":\"SA15\",\"name\":\"茨城\"}},{\"code\":\"Z016\",\"large_service_area\":{\"code\":\"SS10\",\"name\":\"関東\"},\"name\":\"栃木\",\"service_area\":{\"code\":\"SA16\",\"name\":\"栃木\"}},{\"code\":\"Z017\",\"large_service_area\":{\"code\":\"SS10\",\"name\":\"関東\"},\"name\":\"群馬\",\"service_area\":{\"code\":\"SA17\",\"name\":\"群馬\"}},{\"code\":\"Z021\",\"large_service_area\":{\"code\":\"SS20\",\"name\":\"関西\"},\"name\":\"滋賀\",\"service_area\":{\"code\":\"SA21\",\"name\":\"滋賀\"}},{\"code\":\"Z022\",\"large_service_area\":{\"code\":\"SS20\",\"name\":\"関西\"},\"name\":\"京都\",\"service_area\":{\"code\":\"SA22\",\"name\":\"京都\"}},{\"code\":\"Z023\",\"large_service_area\":{\"code\":\"SS20\",\"name\":\"関西\"},\"name\":\"大阪\",\"service_area\":{\"code\":\"SA23\",\"name\":\"大阪\"}},{\"code\":\"Z024\",\"large_service_area\":{\"code\":\"SS20\",\"name\":\"関西\"},\"name\":\"兵庫\",\"service_area\":{\"code\":\"SA24\",\"name\":\"兵庫\"}},{\"code\":\"Z025\",\"large_service_area\":{\"code\":\"SS20\",\"name\":\"関西\"},\"name\":\"奈良\",\"service_area\":{\"code\":\"SA25\",\"name\":\"奈良\"}},{\"code\":\"Z026\",\"large_service_area\":{\"code\":\"SS20\",\"name\":\"関西\"},\"name\":\"和歌山\",\"service_area\":{\"code\":\"SA26\",\"name\":\"和歌山\"}},{\"code\":\"Z031\",\"large_service_area\":{\"code\":\"SS30\",\"name\":\"東海\"},\"name\":\"岐阜\",\"service_area\":{\"code\":\"SA31\",\"name\":\"岐阜\"}},{\"code\":\"Z032\",\"large_service_area\":{\"code\":\"SS30\",\"name\":\"東海\"},\"name\":\"静岡\",\"service_area\":{\"code\":\"SA32\",\"name\":\"静岡\"}},{\"code\":\"Z033\",\"large_service_area\":{\"code\":\"SS30\",\"name\":\"東海\"},\"name\":\"愛知\",\"service_area\":{\"code\":\"SA33\",\"name\":\"愛知\"}},{\"code\":\"Z034\",\"large_service_area\":{\"code\":\"SS30\",\"name\":\"東海\"},\"name\":\"三重\",\"service_area\":{\"code\":\"SA34\",\"name\":\"三重\"}},{\"code\":\"Z041\",\"large_service_area\":{\"code\":\"SS40\",\"name\":\"北海道\"},\"name\":\"北海道\",\"service_area\":{\"code\":\"SA41\",\"name\":\"北海道\"}},{\"code\":\"Z051\",\"large_service_area\":{\"code\":\"SS50\",\"name\":\"東北\"},\"name\":\"青森\",\"service_area\":{\"code\":\"SA51\",\"name\":\"青森\"}},{\"code\":\"Z052\",\"large_service_area\":{\"code\":\"SS50\",\"name\":\"東北\"},\"name\":\"岩手\",\"service_area\":{\"code\":\"SA52\",\"name\":\"岩手\"}},{\"code\":\"Z053\",\"large_service_area\":{\"code\":\"SS50\",\"name\":\"東北\"},\"name\":\"宮城\",\"service_area\":{\"code\":\"SA53\",\"name\":\"宮城\"}},{\"code\":\"Z054\",\"large_service_area\":{\"code\":\"SS50\",\"name\":\"東北\"},\"name\":\"秋田\",\"service_area\":{\"code\":\"SA54\",\"name\":\"秋田\"}},{\"code\":\"Z055\",\"large_service_area\":{\"code\":\"SS50\",\"name\":\"東北\"},\"name\":\"山形\",\"service_area\":{\"code\":\"SA55\",\"name\":\"山形\"}},{\"code\":\"Z056\",\"large_service_area\":{\"code\":\"SS50\",\"name\":\"東北\"},\"name\":\"福島\",\"service_area\":{\"code\":\"SA56\",\"name\":\"福島\"}},{\"code\":\"Z061\",\"large_service_area\":{\"code\":\"SS60\",\"name\":\"北陸・甲信越\"},\"name\":\"新潟\",\"service_area\":{\"code\":\"SA61\",\"name\":\"新潟\"}},{\"code\":\"Z062\",\"large_service_area\":{\"code\":\"SS60\",\"name\":\"北陸・甲信越\"},\"name\":\"富山\",\"service_area\":{\"code\":\"SA62\",\"name\":\"富山\"}},{\"code\":\"Z063\",\"large_service_area\":{\"code\":\"SS60\",\"name\":\"北陸・甲信越\"},\"name\":\"石川\",\"service_area\":{\"code\":\"SA63\",\"name\":\"石川\"}},{\"code\":\"Z064\",\"large_service_area\":{\"code\":\"SS60\",\"name\":\"北陸・甲信越\"},\"name\":\"福井\",\"service_area\":{\"code\":\"SA64\",\"name\":\"福井\"}},{\"code\":\"Z065\",\"large_service_area\":{\"code\":\"SS60\",\"name\":\"北陸・甲信越\"},\"name\":\"山梨\",\"service_area\":{\"code\":\"SA65\",\"name\":\"山梨\"}},{\"code\":\"Z066\",\"large_service_area\":{\"code\":\"SS60\",\"name\":\"北陸・甲信越\"},\"name\":\"長野\",\"service_area\":{\"code\":\"SA66\",\"name\":\"長野\"}},{\"code\":\"Z071\",\"large_service_area\":{\"code\":\"SS70\",\"name\":\"中国\"},\"name\":\"鳥取\",\"service_area\":{\"code\":\"SA71\",\"name\":\"鳥取\"}},{\"code\":\"Z072\",\"large_service_area\":{\"code\":\"SS70\",\"name\":\"中国\"},\"name\":\"島根\",\"service_area\":{\"code\":\"SA72\",\"name\":\"島根\"}},{\"code\":\"Z073\",\"large_service_area\":{\"code\":\"SS70\",\"name\":\"中国\"},\"name\":\"岡山\",\"service_area\":{\"code\":\"SA73\",\"name\":\"岡山\"}},{\"code\":\"Z074\",\"large_service_area\":{\"code\":\"SS70\",\"name\":\"中国\"},\"name\":\"広島\",\"service_area\":{\"code\":\"SA74\",\"name\":\"広島\"}},{\"code\":\"Z075\",\"large_service_area\":{\"code\":\"SS70\",\"name\":\"中国\"},\"name\":\"山口\",\"service_area\":{\"code\":\"SA75\",\"name\":\"山口\"}},{\"code\":\"Z081\",\"large_service_area\":{\"code\":\"SS80\",\"name\":\"四国\"},\"name\":\"徳島\",\"service_area\":{\"code\":\"SA81\",\"name\":\"徳島\"}},{\"code\":\"Z082\",\"large_service_area\":{\"code\":\"SS80\",\"name\":\"四国\"},\"name\":\"香川\",\"service_area\":{\"code\":\"SA82\",\"name\":\"香川\"}},{\"code\":\"Z083\",\"large_service_area\":{\"code\":\"SS80\",\"name\":\"四国\"},\"name\":\"愛媛\",\"service_area\":{\"code\":\"SA83\",\"name\":\"愛媛\"}},{\"code\":\"Z084\",\"large_service_area\":{\"code\":\"SS80\",\"name\":\"四国\"},\"name\":\"高知\",\"service_area\":{\"code\":\"SA84\",\"name\":\"高知\"}},{\"code\":\"Z091\",\"large_service_area\":{\"code\":\"SS90\",\"name\":\"九州・沖縄\"},\"name\":\"福岡\",\"service_area\":{\"code\":\"SA91\",\"name\":\"福岡\"}},{\"code\":\"Z092\",\"large_service_area\":{\"code\":\"SS90\",\"name\":\"九州・沖縄\"},\"name\":\"佐賀\",\"service_area\":{\"code\":\"SA92\",\"name\":\"佐賀\"}},{\"code\":\"Z093\",\"large_service_area\":{\"code\":\"SS90\",\"name\":\"九州・沖縄\"},\"name\":\"長崎\",\"service_area\":{\"code\":\"SA93\",\"name\":\"長崎\"}},{\"code\":\"Z094\",\"large_service_area\":{\"code\":\"SS90\",\"name\":\"九州・沖縄\"},\"name\":\"熊本\",\"service_area\":{\"code\":\"SA94\",\"name\":\"熊本\"}},{\"code\":\"Z095\",\"large_service_area\":{\"code\":\"SS90\",\"name\":\"九州・沖縄\"},\"name\":\"大分\",\"service_area\":{\"code\":\"SA95\",\"name\":\"大分\"}},{\"code\":\"Z096\",\"large_service_area\":{\"code\":\"SS90\",\"name\":\"九州・沖縄\"},\"name\":\"宮崎\",\"service_area\":{\"code\":\"SA96\",\"name\":\"宮崎\"}},{\"code\":\"Z097\",\"large_service_area\":{\"code\":\"SS90\",\"name\":\"九州・沖縄\"},\"name\":\"鹿児島\",\"service_area\":{\"code\":\"SA97\",\"name\":\"鹿児島\"}},{\"code\":\"Z098\",\"large_service_area\":{\"code\":\"SS90\",\"name\":\"九州・沖縄\"},\"name\":\"沖縄\",\"service_area\":{\"code\":\"SA98\",\"name\":\"沖縄\"}}],\"results_available\":47,\"results_returned\":\"47\",\"results_start\":1}}\n"
          ]
        }
      ]
    },
    {
      "cell_type": "code",
      "source": [
        "#レスポンスをjson変換\n",
        "json_data = response.json()"
      ],
      "metadata": {
        "id": "-fPTpf9THJuD"
      },
      "execution_count": 36,
      "outputs": []
    },
    {
      "cell_type": "code",
      "source": [
        "print(json_data)"
      ],
      "metadata": {
        "colab": {
          "base_uri": "https://localhost:8080/"
        },
        "id": "lDmrNvCJ6AAp",
        "outputId": "bed64825-aef8-415a-f1c9-a822f9e5baa3"
      },
      "execution_count": 37,
      "outputs": [
        {
          "output_type": "stream",
          "name": "stdout",
          "text": [
            "{'results': {'api_version': '1.20', 'large_area': [{'code': 'Z011', 'large_service_area': {'code': 'SS10', 'name': '関東'}, 'name': '東京', 'service_area': {'code': 'SA11', 'name': '東京'}}, {'code': 'Z012', 'large_service_area': {'code': 'SS10', 'name': '関東'}, 'name': '神奈川', 'service_area': {'code': 'SA12', 'name': '神奈川'}}, {'code': 'Z013', 'large_service_area': {'code': 'SS10', 'name': '関東'}, 'name': '埼玉', 'service_area': {'code': 'SA13', 'name': '埼玉'}}, {'code': 'Z014', 'large_service_area': {'code': 'SS10', 'name': '関東'}, 'name': '千葉', 'service_area': {'code': 'SA14', 'name': '千葉'}}, {'code': 'Z015', 'large_service_area': {'code': 'SS10', 'name': '関東'}, 'name': '茨城', 'service_area': {'code': 'SA15', 'name': '茨城'}}, {'code': 'Z016', 'large_service_area': {'code': 'SS10', 'name': '関東'}, 'name': '栃木', 'service_area': {'code': 'SA16', 'name': '栃木'}}, {'code': 'Z017', 'large_service_area': {'code': 'SS10', 'name': '関東'}, 'name': '群馬', 'service_area': {'code': 'SA17', 'name': '群馬'}}, {'code': 'Z021', 'large_service_area': {'code': 'SS20', 'name': '関西'}, 'name': '滋賀', 'service_area': {'code': 'SA21', 'name': '滋賀'}}, {'code': 'Z022', 'large_service_area': {'code': 'SS20', 'name': '関西'}, 'name': '京都', 'service_area': {'code': 'SA22', 'name': '京都'}}, {'code': 'Z023', 'large_service_area': {'code': 'SS20', 'name': '関西'}, 'name': '大阪', 'service_area': {'code': 'SA23', 'name': '大阪'}}, {'code': 'Z024', 'large_service_area': {'code': 'SS20', 'name': '関西'}, 'name': '兵庫', 'service_area': {'code': 'SA24', 'name': '兵庫'}}, {'code': 'Z025', 'large_service_area': {'code': 'SS20', 'name': '関西'}, 'name': '奈良', 'service_area': {'code': 'SA25', 'name': '奈良'}}, {'code': 'Z026', 'large_service_area': {'code': 'SS20', 'name': '関西'}, 'name': '和歌山', 'service_area': {'code': 'SA26', 'name': '和歌山'}}, {'code': 'Z031', 'large_service_area': {'code': 'SS30', 'name': '東海'}, 'name': '岐阜', 'service_area': {'code': 'SA31', 'name': '岐阜'}}, {'code': 'Z032', 'large_service_area': {'code': 'SS30', 'name': '東海'}, 'name': '静岡', 'service_area': {'code': 'SA32', 'name': '静岡'}}, {'code': 'Z033', 'large_service_area': {'code': 'SS30', 'name': '東海'}, 'name': '愛知', 'service_area': {'code': 'SA33', 'name': '愛知'}}, {'code': 'Z034', 'large_service_area': {'code': 'SS30', 'name': '東海'}, 'name': '三重', 'service_area': {'code': 'SA34', 'name': '三重'}}, {'code': 'Z041', 'large_service_area': {'code': 'SS40', 'name': '北海道'}, 'name': '北海道', 'service_area': {'code': 'SA41', 'name': '北海道'}}, {'code': 'Z051', 'large_service_area': {'code': 'SS50', 'name': '東北'}, 'name': '青森', 'service_area': {'code': 'SA51', 'name': '青森'}}, {'code': 'Z052', 'large_service_area': {'code': 'SS50', 'name': '東北'}, 'name': '岩手', 'service_area': {'code': 'SA52', 'name': '岩手'}}, {'code': 'Z053', 'large_service_area': {'code': 'SS50', 'name': '東北'}, 'name': '宮城', 'service_area': {'code': 'SA53', 'name': '宮城'}}, {'code': 'Z054', 'large_service_area': {'code': 'SS50', 'name': '東北'}, 'name': '秋田', 'service_area': {'code': 'SA54', 'name': '秋田'}}, {'code': 'Z055', 'large_service_area': {'code': 'SS50', 'name': '東北'}, 'name': '山形', 'service_area': {'code': 'SA55', 'name': '山形'}}, {'code': 'Z056', 'large_service_area': {'code': 'SS50', 'name': '東北'}, 'name': '福島', 'service_area': {'code': 'SA56', 'name': '福島'}}, {'code': 'Z061', 'large_service_area': {'code': 'SS60', 'name': '北陸・甲信越'}, 'name': '新潟', 'service_area': {'code': 'SA61', 'name': '新潟'}}, {'code': 'Z062', 'large_service_area': {'code': 'SS60', 'name': '北陸・甲信越'}, 'name': '富山', 'service_area': {'code': 'SA62', 'name': '富山'}}, {'code': 'Z063', 'large_service_area': {'code': 'SS60', 'name': '北陸・甲信越'}, 'name': '石川', 'service_area': {'code': 'SA63', 'name': '石川'}}, {'code': 'Z064', 'large_service_area': {'code': 'SS60', 'name': '北陸・甲信越'}, 'name': '福井', 'service_area': {'code': 'SA64', 'name': '福井'}}, {'code': 'Z065', 'large_service_area': {'code': 'SS60', 'name': '北陸・甲信越'}, 'name': '山梨', 'service_area': {'code': 'SA65', 'name': '山梨'}}, {'code': 'Z066', 'large_service_area': {'code': 'SS60', 'name': '北陸・甲信越'}, 'name': '長野', 'service_area': {'code': 'SA66', 'name': '長野'}}, {'code': 'Z071', 'large_service_area': {'code': 'SS70', 'name': '中国'}, 'name': '鳥取', 'service_area': {'code': 'SA71', 'name': '鳥取'}}, {'code': 'Z072', 'large_service_area': {'code': 'SS70', 'name': '中国'}, 'name': '島根', 'service_area': {'code': 'SA72', 'name': '島根'}}, {'code': 'Z073', 'large_service_area': {'code': 'SS70', 'name': '中国'}, 'name': '岡山', 'service_area': {'code': 'SA73', 'name': '岡山'}}, {'code': 'Z074', 'large_service_area': {'code': 'SS70', 'name': '中国'}, 'name': '広島', 'service_area': {'code': 'SA74', 'name': '広島'}}, {'code': 'Z075', 'large_service_area': {'code': 'SS70', 'name': '中国'}, 'name': '山口', 'service_area': {'code': 'SA75', 'name': '山口'}}, {'code': 'Z081', 'large_service_area': {'code': 'SS80', 'name': '四国'}, 'name': '徳島', 'service_area': {'code': 'SA81', 'name': '徳島'}}, {'code': 'Z082', 'large_service_area': {'code': 'SS80', 'name': '四国'}, 'name': '香川', 'service_area': {'code': 'SA82', 'name': '香川'}}, {'code': 'Z083', 'large_service_area': {'code': 'SS80', 'name': '四国'}, 'name': '愛媛', 'service_area': {'code': 'SA83', 'name': '愛媛'}}, {'code': 'Z084', 'large_service_area': {'code': 'SS80', 'name': '四国'}, 'name': '高知', 'service_area': {'code': 'SA84', 'name': '高知'}}, {'code': 'Z091', 'large_service_area': {'code': 'SS90', 'name': '九州・沖縄'}, 'name': '福岡', 'service_area': {'code': 'SA91', 'name': '福岡'}}, {'code': 'Z092', 'large_service_area': {'code': 'SS90', 'name': '九州・沖縄'}, 'name': '佐賀', 'service_area': {'code': 'SA92', 'name': '佐賀'}}, {'code': 'Z093', 'large_service_area': {'code': 'SS90', 'name': '九州・沖縄'}, 'name': '長崎', 'service_area': {'code': 'SA93', 'name': '長崎'}}, {'code': 'Z094', 'large_service_area': {'code': 'SS90', 'name': '九州・沖縄'}, 'name': '熊本', 'service_area': {'code': 'SA94', 'name': '熊本'}}, {'code': 'Z095', 'large_service_area': {'code': 'SS90', 'name': '九州・沖縄'}, 'name': '大分', 'service_area': {'code': 'SA95', 'name': '大分'}}, {'code': 'Z096', 'large_service_area': {'code': 'SS90', 'name': '九州・沖縄'}, 'name': '宮崎', 'service_area': {'code': 'SA96', 'name': '宮崎'}}, {'code': 'Z097', 'large_service_area': {'code': 'SS90', 'name': '九州・沖縄'}, 'name': '鹿児島', 'service_area': {'code': 'SA97', 'name': '鹿児島'}}, {'code': 'Z098', 'large_service_area': {'code': 'SS90', 'name': '九州・沖縄'}, 'name': '沖縄', 'service_area': {'code': 'SA98', 'name': '沖縄'}}], 'results_available': 47, 'results_returned': '47', 'results_start': 1}}\n"
          ]
        }
      ]
    },
    {
      "cell_type": "code",
      "source": [
        "# 第一階層　large_area取得\n",
        "large_area= json_data['results']['large_area']"
      ],
      "metadata": {
        "id": "zrIjO3Ig4Z0u"
      },
      "execution_count": 38,
      "outputs": []
    },
    {
      "cell_type": "code",
      "source": [
        "print(large_area)"
      ],
      "metadata": {
        "colab": {
          "base_uri": "https://localhost:8080/"
        },
        "id": "eKsm6eY745Z1",
        "outputId": "32dd5e59-006c-47ff-efd0-9e61d1b7cc94"
      },
      "execution_count": 39,
      "outputs": [
        {
          "output_type": "stream",
          "name": "stdout",
          "text": [
            "[{'code': 'Z011', 'large_service_area': {'code': 'SS10', 'name': '関東'}, 'name': '東京', 'service_area': {'code': 'SA11', 'name': '東京'}}, {'code': 'Z012', 'large_service_area': {'code': 'SS10', 'name': '関東'}, 'name': '神奈川', 'service_area': {'code': 'SA12', 'name': '神奈川'}}, {'code': 'Z013', 'large_service_area': {'code': 'SS10', 'name': '関東'}, 'name': '埼玉', 'service_area': {'code': 'SA13', 'name': '埼玉'}}, {'code': 'Z014', 'large_service_area': {'code': 'SS10', 'name': '関東'}, 'name': '千葉', 'service_area': {'code': 'SA14', 'name': '千葉'}}, {'code': 'Z015', 'large_service_area': {'code': 'SS10', 'name': '関東'}, 'name': '茨城', 'service_area': {'code': 'SA15', 'name': '茨城'}}, {'code': 'Z016', 'large_service_area': {'code': 'SS10', 'name': '関東'}, 'name': '栃木', 'service_area': {'code': 'SA16', 'name': '栃木'}}, {'code': 'Z017', 'large_service_area': {'code': 'SS10', 'name': '関東'}, 'name': '群馬', 'service_area': {'code': 'SA17', 'name': '群馬'}}, {'code': 'Z021', 'large_service_area': {'code': 'SS20', 'name': '関西'}, 'name': '滋賀', 'service_area': {'code': 'SA21', 'name': '滋賀'}}, {'code': 'Z022', 'large_service_area': {'code': 'SS20', 'name': '関西'}, 'name': '京都', 'service_area': {'code': 'SA22', 'name': '京都'}}, {'code': 'Z023', 'large_service_area': {'code': 'SS20', 'name': '関西'}, 'name': '大阪', 'service_area': {'code': 'SA23', 'name': '大阪'}}, {'code': 'Z024', 'large_service_area': {'code': 'SS20', 'name': '関西'}, 'name': '兵庫', 'service_area': {'code': 'SA24', 'name': '兵庫'}}, {'code': 'Z025', 'large_service_area': {'code': 'SS20', 'name': '関西'}, 'name': '奈良', 'service_area': {'code': 'SA25', 'name': '奈良'}}, {'code': 'Z026', 'large_service_area': {'code': 'SS20', 'name': '関西'}, 'name': '和歌山', 'service_area': {'code': 'SA26', 'name': '和歌山'}}, {'code': 'Z031', 'large_service_area': {'code': 'SS30', 'name': '東海'}, 'name': '岐阜', 'service_area': {'code': 'SA31', 'name': '岐阜'}}, {'code': 'Z032', 'large_service_area': {'code': 'SS30', 'name': '東海'}, 'name': '静岡', 'service_area': {'code': 'SA32', 'name': '静岡'}}, {'code': 'Z033', 'large_service_area': {'code': 'SS30', 'name': '東海'}, 'name': '愛知', 'service_area': {'code': 'SA33', 'name': '愛知'}}, {'code': 'Z034', 'large_service_area': {'code': 'SS30', 'name': '東海'}, 'name': '三重', 'service_area': {'code': 'SA34', 'name': '三重'}}, {'code': 'Z041', 'large_service_area': {'code': 'SS40', 'name': '北海道'}, 'name': '北海道', 'service_area': {'code': 'SA41', 'name': '北海道'}}, {'code': 'Z051', 'large_service_area': {'code': 'SS50', 'name': '東北'}, 'name': '青森', 'service_area': {'code': 'SA51', 'name': '青森'}}, {'code': 'Z052', 'large_service_area': {'code': 'SS50', 'name': '東北'}, 'name': '岩手', 'service_area': {'code': 'SA52', 'name': '岩手'}}, {'code': 'Z053', 'large_service_area': {'code': 'SS50', 'name': '東北'}, 'name': '宮城', 'service_area': {'code': 'SA53', 'name': '宮城'}}, {'code': 'Z054', 'large_service_area': {'code': 'SS50', 'name': '東北'}, 'name': '秋田', 'service_area': {'code': 'SA54', 'name': '秋田'}}, {'code': 'Z055', 'large_service_area': {'code': 'SS50', 'name': '東北'}, 'name': '山形', 'service_area': {'code': 'SA55', 'name': '山形'}}, {'code': 'Z056', 'large_service_area': {'code': 'SS50', 'name': '東北'}, 'name': '福島', 'service_area': {'code': 'SA56', 'name': '福島'}}, {'code': 'Z061', 'large_service_area': {'code': 'SS60', 'name': '北陸・甲信越'}, 'name': '新潟', 'service_area': {'code': 'SA61', 'name': '新潟'}}, {'code': 'Z062', 'large_service_area': {'code': 'SS60', 'name': '北陸・甲信越'}, 'name': '富山', 'service_area': {'code': 'SA62', 'name': '富山'}}, {'code': 'Z063', 'large_service_area': {'code': 'SS60', 'name': '北陸・甲信越'}, 'name': '石川', 'service_area': {'code': 'SA63', 'name': '石川'}}, {'code': 'Z064', 'large_service_area': {'code': 'SS60', 'name': '北陸・甲信越'}, 'name': '福井', 'service_area': {'code': 'SA64', 'name': '福井'}}, {'code': 'Z065', 'large_service_area': {'code': 'SS60', 'name': '北陸・甲信越'}, 'name': '山梨', 'service_area': {'code': 'SA65', 'name': '山梨'}}, {'code': 'Z066', 'large_service_area': {'code': 'SS60', 'name': '北陸・甲信越'}, 'name': '長野', 'service_area': {'code': 'SA66', 'name': '長野'}}, {'code': 'Z071', 'large_service_area': {'code': 'SS70', 'name': '中国'}, 'name': '鳥取', 'service_area': {'code': 'SA71', 'name': '鳥取'}}, {'code': 'Z072', 'large_service_area': {'code': 'SS70', 'name': '中国'}, 'name': '島根', 'service_area': {'code': 'SA72', 'name': '島根'}}, {'code': 'Z073', 'large_service_area': {'code': 'SS70', 'name': '中国'}, 'name': '岡山', 'service_area': {'code': 'SA73', 'name': '岡山'}}, {'code': 'Z074', 'large_service_area': {'code': 'SS70', 'name': '中国'}, 'name': '広島', 'service_area': {'code': 'SA74', 'name': '広島'}}, {'code': 'Z075', 'large_service_area': {'code': 'SS70', 'name': '中国'}, 'name': '山口', 'service_area': {'code': 'SA75', 'name': '山口'}}, {'code': 'Z081', 'large_service_area': {'code': 'SS80', 'name': '四国'}, 'name': '徳島', 'service_area': {'code': 'SA81', 'name': '徳島'}}, {'code': 'Z082', 'large_service_area': {'code': 'SS80', 'name': '四国'}, 'name': '香川', 'service_area': {'code': 'SA82', 'name': '香川'}}, {'code': 'Z083', 'large_service_area': {'code': 'SS80', 'name': '四国'}, 'name': '愛媛', 'service_area': {'code': 'SA83', 'name': '愛媛'}}, {'code': 'Z084', 'large_service_area': {'code': 'SS80', 'name': '四国'}, 'name': '高知', 'service_area': {'code': 'SA84', 'name': '高知'}}, {'code': 'Z091', 'large_service_area': {'code': 'SS90', 'name': '九州・沖縄'}, 'name': '福岡', 'service_area': {'code': 'SA91', 'name': '福岡'}}, {'code': 'Z092', 'large_service_area': {'code': 'SS90', 'name': '九州・沖縄'}, 'name': '佐賀', 'service_area': {'code': 'SA92', 'name': '佐賀'}}, {'code': 'Z093', 'large_service_area': {'code': 'SS90', 'name': '九州・沖縄'}, 'name': '長崎', 'service_area': {'code': 'SA93', 'name': '長崎'}}, {'code': 'Z094', 'large_service_area': {'code': 'SS90', 'name': '九州・沖縄'}, 'name': '熊本', 'service_area': {'code': 'SA94', 'name': '熊本'}}, {'code': 'Z095', 'large_service_area': {'code': 'SS90', 'name': '九州・沖縄'}, 'name': '大分', 'service_area': {'code': 'SA95', 'name': '大分'}}, {'code': 'Z096', 'large_service_area': {'code': 'SS90', 'name': '九州・沖縄'}, 'name': '宮崎', 'service_area': {'code': 'SA96', 'name': '宮崎'}}, {'code': 'Z097', 'large_service_area': {'code': 'SS90', 'name': '九州・沖縄'}, 'name': '鹿児島', 'service_area': {'code': 'SA97', 'name': '鹿児島'}}, {'code': 'Z098', 'large_service_area': {'code': 'SS90', 'name': '九州・沖縄'}, 'name': '沖縄', 'service_area': {'code': 'SA98', 'name': '沖縄'}}]\n"
          ]
        }
      ]
    },
    {
      "cell_type": "code",
      "source": [
        "#参考　個別データをひとつ取得する\n",
        "large_area_code= large_area[0]['code']\n",
        "large_area_name= large_area[0]['name']\n"
      ],
      "metadata": {
        "id": "0r41331W_j36"
      },
      "execution_count": 40,
      "outputs": []
    },
    {
      "cell_type": "code",
      "source": [],
      "metadata": {
        "id": "wofEmSy5BRWN"
      },
      "execution_count": null,
      "outputs": []
    },
    {
      "cell_type": "code",
      "source": [
        "print(large_area_code)\n",
        "print(large_area_name)"
      ],
      "metadata": {
        "colab": {
          "base_uri": "https://localhost:8080/"
        },
        "id": "5-5CWxR8B61T",
        "outputId": "740d9e12-19a3-4d1d-dbf3-c3a67dbcc02e"
      },
      "execution_count": 41,
      "outputs": [
        {
          "output_type": "stream",
          "name": "stdout",
          "text": [
            "Z011\n",
            "東京\n"
          ]
        }
      ]
    },
    {
      "cell_type": "code",
      "source": [
        "for area in large_area:\n",
        "  large_area_arr.append([area['code'],area['name']])"
      ],
      "metadata": {
        "id": "6W0Bj6ea5Wwy"
      },
      "execution_count": 42,
      "outputs": []
    },
    {
      "cell_type": "code",
      "source": [
        "print(large_area_arr)"
      ],
      "metadata": {
        "colab": {
          "base_uri": "https://localhost:8080/"
        },
        "id": "cOTRcIPfdwQR",
        "outputId": "31f32688-f92e-42fe-9048-df0ddd437bb2"
      },
      "execution_count": 43,
      "outputs": [
        {
          "output_type": "stream",
          "name": "stdout",
          "text": [
            "[['Z011', '東京'], ['Z012', '神奈川'], ['Z013', '埼玉'], ['Z014', '千葉'], ['Z015', '茨城'], ['Z016', '栃木'], ['Z017', '群馬'], ['Z021', '滋賀'], ['Z022', '京都'], ['Z023', '大阪'], ['Z024', '兵庫'], ['Z025', '奈良'], ['Z026', '和歌山'], ['Z031', '岐阜'], ['Z032', '静岡'], ['Z033', '愛知'], ['Z034', '三重'], ['Z041', '北海道'], ['Z051', '青森'], ['Z052', '岩手'], ['Z053', '宮城'], ['Z054', '秋田'], ['Z055', '山形'], ['Z056', '福島'], ['Z061', '新潟'], ['Z062', '富山'], ['Z063', '石川'], ['Z064', '福井'], ['Z065', '山梨'], ['Z066', '長野'], ['Z071', '鳥取'], ['Z072', '島根'], ['Z073', '岡山'], ['Z074', '広島'], ['Z075', '山口'], ['Z081', '徳島'], ['Z082', '香川'], ['Z083', '愛媛'], ['Z084', '高知'], ['Z091', '福岡'], ['Z092', '佐賀'], ['Z093', '長崎'], ['Z094', '熊本'], ['Z095', '大分'], ['Z096', '宮崎'], ['Z097', '鹿児島'], ['Z098', '沖縄']]\n"
          ]
        }
      ]
    },
    {
      "cell_type": "code",
      "source": [
        "columns = ['code', 'name']"
      ],
      "metadata": {
        "id": "EpcHYrkjaOUx"
      },
      "execution_count": 44,
      "outputs": []
    },
    {
      "cell_type": "code",
      "source": [
        "df_large_area = pd.DataFrame(large_area_arr, columns=columns)\n"
      ],
      "metadata": {
        "id": "qwFXuSYVaWNg"
      },
      "execution_count": 45,
      "outputs": []
    },
    {
      "cell_type": "code",
      "source": [
        "df_large_area.to_csv('large_area.csv')"
      ],
      "metadata": {
        "id": "Sl_GGhB_5hL5"
      },
      "execution_count": 46,
      "outputs": []
    }
  ]
}