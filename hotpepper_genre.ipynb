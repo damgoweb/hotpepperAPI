{
  "nbformat": 4,
  "nbformat_minor": 0,
  "metadata": {
    "colab": {
      "provenance": [],
      "authorship_tag": "ABX9TyPDbWdevXn2mz56tukKU2g9",
      "include_colab_link": true
    },
    "kernelspec": {
      "name": "python3",
      "display_name": "Python 3"
    },
    "language_info": {
      "name": "python"
    }
  },
  "cells": [
    {
      "cell_type": "markdown",
      "metadata": {
        "id": "view-in-github",
        "colab_type": "text"
      },
      "source": [
        "<a href=\"https://colab.research.google.com/github/damgoweb/hotpepperAPI/blob/main/hotpepper_genre.ipynb\" target=\"_parent\"><img src=\"https://colab.research.google.com/assets/colab-badge.svg\" alt=\"Open In Colab\"/></a>"
      ]
    },
    {
      "cell_type": "code",
      "source": [
        "# ホットペッパーAPI\n",
        "# リファレンス：https://webservice.recruit.co.jp/doc/hotpepper/reference.html\n",
        "#"
      ],
      "metadata": {
        "id": "os3Rmez5pxBv"
      },
      "execution_count": null,
      "outputs": []
    },
    {
      "cell_type": "code",
      "source": [
        "# ジャンルマスタAPI\n",
        "#取得するータ\n",
        "#　・ジャンルコード\t　例）G002\n",
        "#　・ジャンル名\t　　　例）バー\n",
        "#データ取得・出力手順\n",
        "#　APIレスポンス⇒json⇒pandasデータフレーム⇒CSVファイル"
      ],
      "metadata": {
        "id": "jK8JfCz7pzht"
      },
      "execution_count": 2,
      "outputs": []
    },
    {
      "cell_type": "code",
      "source": [
        "import requests\n",
        "import pandas as pd"
      ],
      "metadata": {
        "id": "6S4ftN3tpzjl"
      },
      "execution_count": 3,
      "outputs": []
    },
    {
      "cell_type": "code",
      "source": [
        "URL = 'http://webservice.recruit.co.jp/hotpepper/genre/v1/'\n",
        "\n",
        "API_KEY = ''\n",
        "\n",
        "restaurant_datas=[]\n",
        "\n",
        "query = {\n",
        "    'key':API_KEY,\n",
        "    'format':'json'\n",
        "}"
      ],
      "metadata": {
        "id": "itraECYtp5Xh"
      },
      "execution_count": 4,
      "outputs": []
    },
    {
      "cell_type": "code",
      "source": [
        "# APIレスポンス\n",
        "response = requests.get(URL,query)"
      ],
      "metadata": {
        "id": "rScyAFNnqA5y"
      },
      "execution_count": 5,
      "outputs": []
    },
    {
      "cell_type": "code",
      "source": [
        "print(response.text)"
      ],
      "metadata": {
        "colab": {
          "base_uri": "https://localhost:8080/"
        },
        "id": "2jusfZb2qOgg",
        "outputId": "02b0f007-74f8-4079-f15a-f4fd5b4d47cf"
      },
      "execution_count": 6,
      "outputs": [
        {
          "output_type": "stream",
          "name": "stdout",
          "text": [
            "{\"results\":{\"api_version\":\"1.20\",\"genre\":[{\"code\":\"G001\",\"name\":\"居酒屋\"},{\"code\":\"G002\",\"name\":\"ダイニングバー・バル\"},{\"code\":\"G003\",\"name\":\"創作料理\"},{\"code\":\"G004\",\"name\":\"和食\"},{\"code\":\"G005\",\"name\":\"洋食\"},{\"code\":\"G006\",\"name\":\"イタリアン・フレンチ\"},{\"code\":\"G007\",\"name\":\"中華\"},{\"code\":\"G008\",\"name\":\"焼肉・ホルモン\"},{\"code\":\"G017\",\"name\":\"韓国料理\"},{\"code\":\"G009\",\"name\":\"アジア・エスニック料理\"},{\"code\":\"G010\",\"name\":\"各国料理\"},{\"code\":\"G011\",\"name\":\"カラオケ・パーティ\"},{\"code\":\"G012\",\"name\":\"バー・カクテル\"},{\"code\":\"G013\",\"name\":\"ラーメン\"},{\"code\":\"G016\",\"name\":\"お好み焼き・もんじゃ\"},{\"code\":\"G014\",\"name\":\"カフェ・スイーツ\"},{\"code\":\"G015\",\"name\":\"その他グルメ\"}],\"results_available\":17,\"results_returned\":\"17\",\"results_start\":1}}\n"
          ]
        }
      ]
    },
    {
      "cell_type": "code",
      "source": [
        "#レスポンスをjson変換\n",
        "json_data = response.json()"
      ],
      "metadata": {
        "id": "yH_M1tdbqGSh"
      },
      "execution_count": 8,
      "outputs": []
    },
    {
      "cell_type": "code",
      "source": [
        "print(json_data)"
      ],
      "metadata": {
        "colab": {
          "base_uri": "https://localhost:8080/"
        },
        "id": "X1vJtyFQrxVa",
        "outputId": "d6c6da3d-ae76-49b4-aef1-597afe4bd032"
      },
      "execution_count": 9,
      "outputs": [
        {
          "output_type": "stream",
          "name": "stdout",
          "text": [
            "{'results': {'api_version': '1.20', 'genre': [{'code': 'G001', 'name': '居酒屋'}, {'code': 'G002', 'name': 'ダイニングバー・バル'}, {'code': 'G003', 'name': '創作料理'}, {'code': 'G004', 'name': '和食'}, {'code': 'G005', 'name': '洋食'}, {'code': 'G006', 'name': 'イタリアン・フレンチ'}, {'code': 'G007', 'name': '中華'}, {'code': 'G008', 'name': '焼肉・ホルモン'}, {'code': 'G017', 'name': '韓国料理'}, {'code': 'G009', 'name': 'アジア・エスニック料理'}, {'code': 'G010', 'name': '各国料理'}, {'code': 'G011', 'name': 'カラオケ・パーティ'}, {'code': 'G012', 'name': 'バー・カクテル'}, {'code': 'G013', 'name': 'ラーメン'}, {'code': 'G016', 'name': 'お好み焼き・もんじゃ'}, {'code': 'G014', 'name': 'カフェ・スイーツ'}, {'code': 'G015', 'name': 'その他グルメ'}], 'results_available': 17, 'results_returned': '17', 'results_start': 1}}\n"
          ]
        }
      ]
    },
    {
      "cell_type": "code",
      "execution_count": 12,
      "metadata": {
        "id": "xYfWauVro7Yc"
      },
      "outputs": [],
      "source": [
        "#　フラットな配列なのでそのままデータフレームに変換\n",
        "genre= json_data['results']['genre']\n"
      ]
    },
    {
      "cell_type": "code",
      "source": [
        "print(genre)"
      ],
      "metadata": {
        "colab": {
          "base_uri": "https://localhost:8080/"
        },
        "id": "Nuzkm8u7rnBj",
        "outputId": "de7901c5-199a-48c9-fd2b-74158ef02e2a"
      },
      "execution_count": 13,
      "outputs": [
        {
          "output_type": "stream",
          "name": "stdout",
          "text": [
            "[{'code': 'G001', 'name': '居酒屋'}, {'code': 'G002', 'name': 'ダイニングバー・バル'}, {'code': 'G003', 'name': '創作料理'}, {'code': 'G004', 'name': '和食'}, {'code': 'G005', 'name': '洋食'}, {'code': 'G006', 'name': 'イタリアン・フレンチ'}, {'code': 'G007', 'name': '中華'}, {'code': 'G008', 'name': '焼肉・ホルモン'}, {'code': 'G017', 'name': '韓国料理'}, {'code': 'G009', 'name': 'アジア・エスニック料理'}, {'code': 'G010', 'name': '各国料理'}, {'code': 'G011', 'name': 'カラオケ・パーティ'}, {'code': 'G012', 'name': 'バー・カクテル'}, {'code': 'G013', 'name': 'ラーメン'}, {'code': 'G016', 'name': 'お好み焼き・もんじゃ'}, {'code': 'G014', 'name': 'カフェ・スイーツ'}, {'code': 'G015', 'name': 'その他グルメ'}]\n"
          ]
        }
      ]
    },
    {
      "cell_type": "code",
      "source": [
        "#データフレームがそのままＣＳＶの形式になっている\n",
        "df = pd.DataFrame(genre)"
      ],
      "metadata": {
        "id": "YxXe7EaCrnTJ"
      },
      "execution_count": 14,
      "outputs": []
    },
    {
      "cell_type": "code",
      "source": [
        "print(df)"
      ],
      "metadata": {
        "colab": {
          "base_uri": "https://localhost:8080/"
        },
        "id": "77qQZyfFsiR5",
        "outputId": "9312a32d-ef9e-47aa-94a5-8c3b03559f3b"
      },
      "execution_count": 15,
      "outputs": [
        {
          "output_type": "stream",
          "name": "stdout",
          "text": [
            "    code         name\n",
            "0   G001          居酒屋\n",
            "1   G002   ダイニングバー・バル\n",
            "2   G003         創作料理\n",
            "3   G004           和食\n",
            "4   G005           洋食\n",
            "5   G006   イタリアン・フレンチ\n",
            "6   G007           中華\n",
            "7   G008      焼肉・ホルモン\n",
            "8   G017         韓国料理\n",
            "9   G009  アジア・エスニック料理\n",
            "10  G010         各国料理\n",
            "11  G011    カラオケ・パーティ\n",
            "12  G012      バー・カクテル\n",
            "13  G013         ラーメン\n",
            "14  G016   お好み焼き・もんじゃ\n",
            "15  G014     カフェ・スイーツ\n",
            "16  G015       その他グルメ\n"
          ]
        }
      ]
    },
    {
      "cell_type": "code",
      "source": [
        "df.to_csv(\"genre.csv\")\n"
      ],
      "metadata": {
        "id": "vYIXDVzGshRq"
      },
      "execution_count": 16,
      "outputs": []
    }
  ]
}